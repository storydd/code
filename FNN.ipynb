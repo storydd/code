{
 "cells": [
  {
   "cell_type": "code",
   "execution_count": 1,
   "metadata": {},
   "outputs": [],
   "source": [
    "import pandas as pd\n",
    "import numpy as np\n",
    "from numpy import array\n",
    "import random\n",
    "from sklearn.preprocessing import OneHotEncoder\n",
    "from sklearn import preprocessing\n",
    "from keras.models import Sequential\n",
    "from keras.models import load_model\n",
    "from keras.layers import Dense, Dropout\n",
    "from keras.layers import LSTM\n",
    "from keras import regularizers\n",
    "from matplotlib import pyplot\n",
    "from sklearn.model_selection import KFold\n",
    "import openpyxl\n",
    "import os\n",
    "import tensorflow as tf\n",
    "from keras import optimizers\n",
    "from sklearn.preprocessing import MinMaxScaler,StandardScaler"
   ]
  },
  {
   "cell_type": "code",
   "execution_count": 2,
   "metadata": {},
   "outputs": [],
   "source": [
    "X=pd.read_excel(open('t.xlsx', 'rb'),sheet_name='最终数据集',usecols=[1,2,3,4,5])\n",
    "Y=pd.read_excel(open('t.xlsx', 'rb'),sheet_name='最终数据集', usecols=[6])"
   ]
  },
  {
   "cell_type": "code",
   "execution_count": 3,
   "metadata": {},
   "outputs": [
    {
     "data": {
      "text/plain": [
       "array([[4.51309060e-03, 6.92956613e-01, 9.00893032e-01, 2.99035605e-01,\n",
       "        0.00000000e+00],\n",
       "       [1.72762148e-03, 7.61284971e-01, 8.18152035e-01, 2.87403338e-01,\n",
       "        0.00000000e+00],\n",
       "       [9.69722793e-03, 7.42928911e-01, 8.25046358e-01, 2.31613408e-01,\n",
       "        0.00000000e+00],\n",
       "       ...,\n",
       "       [9.49731426e-06, 7.01200396e-01, 7.15529465e-01, 7.88507970e-02,\n",
       "        0.00000000e+00],\n",
       "       [9.59948855e-06, 5.62205664e-01, 7.61000940e-01, 1.08321132e-01,\n",
       "        0.00000000e+00],\n",
       "       [5.49939083e-05, 8.65418149e-01, 7.96174257e-01, 9.36803535e-02,\n",
       "        0.00000000e+00]])"
      ]
     },
     "execution_count": 3,
     "metadata": {},
     "output_type": "execute_result"
    }
   ],
   "source": [
    "X\n",
    "mm = MinMaxScaler()\n",
    "X = mm.fit_transform(X)\n",
    "X"
   ]
  },
  {
   "cell_type": "code",
   "execution_count": 4,
   "metadata": {},
   "outputs": [
    {
     "data": {
      "text/plain": [
       "array([[0.1242358 ],\n",
       "       [0.03740689],\n",
       "       [0.40791365],\n",
       "       ...,\n",
       "       [0.02822565],\n",
       "       [0.01971066],\n",
       "       [0.3388823 ]])"
      ]
     },
     "execution_count": 4,
     "metadata": {},
     "output_type": "execute_result"
    }
   ],
   "source": [
    "Y = mm.fit_transform(Y)\n",
    "Y"
   ]
  },
  {
   "cell_type": "code",
   "execution_count": 5,
   "metadata": {},
   "outputs": [],
   "source": [
    "from sklearn.model_selection import train_test_split\n",
    "X_train, X_test, Y_train, Y_test = train_test_split(X, Y, test_size=0.25,random_state=1)"
   ]
  },
  {
   "cell_type": "code",
   "execution_count": 6,
   "metadata": {},
   "outputs": [
    {
     "data": {
      "text/plain": [
       "(3175, 1059, 3175, 1059)"
      ]
     },
     "execution_count": 6,
     "metadata": {},
     "output_type": "execute_result"
    }
   ],
   "source": [
    "len(X_train),len(X_test),len(Y_train),len(Y_test)"
   ]
  },
  {
   "cell_type": "code",
   "execution_count": 7,
   "metadata": {},
   "outputs": [],
   "source": [
    "X=X_train\n",
    "Y=Y_train"
   ]
  },
  {
   "cell_type": "code",
   "execution_count": 8,
   "metadata": {},
   "outputs": [
    {
     "data": {
      "text/plain": [
       "(3175, 3175)"
      ]
     },
     "execution_count": 8,
     "metadata": {},
     "output_type": "execute_result"
    }
   ],
   "source": [
    "len(X),len(Y)"
   ]
  },
  {
   "cell_type": "code",
   "execution_count": 9,
   "metadata": {},
   "outputs": [
    {
     "name": "stdout",
     "output_type": "stream",
     "text": [
      "Score for fold 1: loss of 0.01892523095011711\n",
      "Score for fold 2: loss of 0.023499848321080208\n",
      "Score for fold 3: loss of 0.021080011501908302\n",
      "Score for fold 4: loss of 0.02161267399787903\n",
      "Score for fold 5: loss of 0.022842036560177803\n",
      "Score for fold 6: loss of 0.020630206912755966\n",
      "Score for fold 7: loss of 0.022175606340169907\n",
      "Score for fold 8: loss of 0.02284662425518036\n",
      "Score for fold 9: loss of 0.026432620361447334\n",
      "Score for fold 10: loss of 0.0241570882499218\n",
      "average_score: 0.022420194745063782\n"
     ]
    }
   ],
   "source": [
    "#1\n",
    "# 定义10折交叉验证\n",
    "kf = KFold(n_splits=10)\n",
    "\n",
    "fold_no = 1\n",
    "average_score = 0\n",
    "for train, test in kf.split(X, Y):\n",
    "\n",
    "    # 在每次的循环中，都需要重新构建模型\n",
    "    model = Sequential()\n",
    "    model.add(Dense(32,input_shape=(5,),activation='tanh'))\n",
    "    model.add(Dense(16,activation='tanh'))\n",
    "    model.add(Dense(8,activation='tanh'))\n",
    "    model.add(Dense(4,activation='tanh'))\n",
    "    model.add(Dense(1))\n",
    "    model.compile(loss='mse', optimizer='adam')\n",
    "\n",
    "    # 训练模型\n",
    "    history = model.fit(X[train], Y[train], epochs=100, verbose=0)  # 根据情况调整epochs的数量\n",
    "\n",
    "    # 评估模型\n",
    "    scores = model.evaluate(X[test], Y[test], verbose=0)\n",
    "    print(f'Score for fold {fold_no}: {model.metrics_names[0]} of {scores}')\n",
    "\n",
    "    average_score += scores\n",
    "\n",
    "    fold_no = fold_no + 1\n",
    "\n",
    "print('average_score:', average_score/(fold_no-1))"
   ]
  },
  {
   "cell_type": "code",
   "execution_count": 88,
   "metadata": {},
   "outputs": [
    {
     "name": "stdout",
     "output_type": "stream",
     "text": [
      "Epoch 1/100\n",
      "32/32 [==============================] - 1s 6ms/step - loss: 0.0430 - val_loss: 0.0302\n",
      "Epoch 2/100\n",
      "32/32 [==============================] - 0s 2ms/step - loss: 0.0241 - val_loss: 0.0262\n",
      "Epoch 3/100\n",
      "32/32 [==============================] - 0s 2ms/step - loss: 0.0230 - val_loss: 0.0256\n",
      "Epoch 4/100\n",
      "32/32 [==============================] - 0s 2ms/step - loss: 0.0228 - val_loss: 0.0254\n",
      "Epoch 5/100\n",
      "32/32 [==============================] - 0s 2ms/step - loss: 0.0227 - val_loss: 0.0252\n",
      "Epoch 6/100\n",
      "32/32 [==============================] - 0s 2ms/step - loss: 0.0226 - val_loss: 0.0252\n",
      "Epoch 7/100\n",
      "32/32 [==============================] - 0s 2ms/step - loss: 0.0227 - val_loss: 0.0253\n",
      "Epoch 8/100\n",
      "32/32 [==============================] - 0s 2ms/step - loss: 0.0226 - val_loss: 0.0252\n",
      "Epoch 9/100\n",
      "32/32 [==============================] - 0s 2ms/step - loss: 0.0226 - val_loss: 0.0251\n",
      "Epoch 10/100\n",
      "32/32 [==============================] - 0s 2ms/step - loss: 0.0228 - val_loss: 0.0253\n",
      "Epoch 11/100\n",
      "32/32 [==============================] - 0s 2ms/step - loss: 0.0226 - val_loss: 0.0252\n",
      "Epoch 12/100\n",
      "32/32 [==============================] - 0s 2ms/step - loss: 0.0226 - val_loss: 0.0252\n",
      "Epoch 13/100\n",
      "32/32 [==============================] - 0s 2ms/step - loss: 0.0227 - val_loss: 0.0251\n",
      "Epoch 14/100\n",
      "32/32 [==============================] - 0s 2ms/step - loss: 0.0225 - val_loss: 0.0251\n",
      "Epoch 15/100\n",
      "32/32 [==============================] - 0s 2ms/step - loss: 0.0226 - val_loss: 0.0252\n",
      "Epoch 16/100\n",
      "32/32 [==============================] - 0s 2ms/step - loss: 0.0225 - val_loss: 0.0252\n",
      "Epoch 17/100\n",
      "32/32 [==============================] - 0s 2ms/step - loss: 0.0225 - val_loss: 0.0251\n",
      "Epoch 18/100\n",
      "32/32 [==============================] - 0s 2ms/step - loss: 0.0225 - val_loss: 0.0252\n",
      "Epoch 19/100\n",
      "32/32 [==============================] - 0s 2ms/step - loss: 0.0224 - val_loss: 0.0252\n",
      "Epoch 20/100\n",
      "32/32 [==============================] - 0s 2ms/step - loss: 0.0224 - val_loss: 0.0251\n",
      "Epoch 21/100\n",
      "32/32 [==============================] - 0s 2ms/step - loss: 0.0224 - val_loss: 0.0251\n",
      "Epoch 22/100\n",
      "32/32 [==============================] - 0s 2ms/step - loss: 0.0225 - val_loss: 0.0251\n",
      "Epoch 23/100\n",
      "32/32 [==============================] - 0s 2ms/step - loss: 0.0224 - val_loss: 0.0252\n",
      "Epoch 24/100\n",
      "32/32 [==============================] - 0s 2ms/step - loss: 0.0231 - val_loss: 0.0256\n",
      "Epoch 25/100\n",
      "32/32 [==============================] - 0s 2ms/step - loss: 0.0227 - val_loss: 0.0253\n",
      "Epoch 26/100\n",
      "32/32 [==============================] - 0s 2ms/step - loss: 0.0224 - val_loss: 0.0255\n",
      "Epoch 27/100\n",
      "32/32 [==============================] - 0s 2ms/step - loss: 0.0226 - val_loss: 0.0252\n",
      "Epoch 28/100\n",
      "32/32 [==============================] - 0s 2ms/step - loss: 0.0225 - val_loss: 0.0251\n",
      "Epoch 29/100\n",
      "32/32 [==============================] - 0s 2ms/step - loss: 0.0224 - val_loss: 0.0252\n",
      "Epoch 30/100\n",
      "32/32 [==============================] - 0s 2ms/step - loss: 0.0223 - val_loss: 0.0251\n",
      "Epoch 31/100\n",
      "32/32 [==============================] - 0s 2ms/step - loss: 0.0225 - val_loss: 0.0251\n",
      "Epoch 32/100\n",
      "32/32 [==============================] - 0s 2ms/step - loss: 0.0225 - val_loss: 0.0256\n",
      "Epoch 33/100\n",
      "32/32 [==============================] - 0s 3ms/step - loss: 0.0225 - val_loss: 0.0252\n",
      "Epoch 34/100\n",
      "32/32 [==============================] - 0s 2ms/step - loss: 0.0227 - val_loss: 0.0251\n",
      "Epoch 35/100\n",
      "32/32 [==============================] - 0s 2ms/step - loss: 0.0226 - val_loss: 0.0252\n",
      "Epoch 36/100\n",
      "32/32 [==============================] - 0s 2ms/step - loss: 0.0225 - val_loss: 0.0253\n",
      "Epoch 37/100\n",
      "32/32 [==============================] - 0s 2ms/step - loss: 0.0224 - val_loss: 0.0254\n",
      "Epoch 38/100\n",
      "32/32 [==============================] - 0s 2ms/step - loss: 0.0226 - val_loss: 0.0259\n",
      "Epoch 39/100\n",
      "32/32 [==============================] - 0s 3ms/step - loss: 0.0226 - val_loss: 0.0258\n",
      "Epoch 40/100\n",
      "32/32 [==============================] - 0s 2ms/step - loss: 0.0225 - val_loss: 0.0252\n",
      "Epoch 41/100\n",
      "32/32 [==============================] - 0s 2ms/step - loss: 0.0223 - val_loss: 0.0251\n",
      "Epoch 42/100\n",
      "32/32 [==============================] - 0s 2ms/step - loss: 0.0223 - val_loss: 0.0259\n",
      "Epoch 43/100\n",
      "32/32 [==============================] - 0s 2ms/step - loss: 0.0226 - val_loss: 0.0251\n",
      "Epoch 44/100\n",
      "32/32 [==============================] - 0s 2ms/step - loss: 0.0225 - val_loss: 0.0251\n",
      "Epoch 45/100\n",
      "32/32 [==============================] - 0s 3ms/step - loss: 0.0225 - val_loss: 0.0253\n",
      "Epoch 46/100\n",
      "32/32 [==============================] - 0s 2ms/step - loss: 0.0225 - val_loss: 0.0254\n",
      "Epoch 47/100\n",
      "32/32 [==============================] - 0s 3ms/step - loss: 0.0226 - val_loss: 0.0251\n",
      "Epoch 48/100\n",
      "32/32 [==============================] - 0s 2ms/step - loss: 0.0229 - val_loss: 0.0251\n",
      "Epoch 49/100\n",
      "32/32 [==============================] - 0s 3ms/step - loss: 0.0224 - val_loss: 0.0251\n",
      "Epoch 50/100\n",
      "32/32 [==============================] - 0s 2ms/step - loss: 0.0223 - val_loss: 0.0253\n",
      "Epoch 51/100\n",
      "32/32 [==============================] - 0s 3ms/step - loss: 0.0225 - val_loss: 0.0254\n",
      "Epoch 52/100\n",
      "32/32 [==============================] - 0s 3ms/step - loss: 0.0225 - val_loss: 0.0258\n",
      "Epoch 53/100\n",
      "32/32 [==============================] - 0s 3ms/step - loss: 0.0224 - val_loss: 0.0253\n",
      "Epoch 54/100\n",
      "32/32 [==============================] - 0s 3ms/step - loss: 0.0225 - val_loss: 0.0253\n",
      "Epoch 55/100\n",
      "32/32 [==============================] - 0s 2ms/step - loss: 0.0224 - val_loss: 0.0252\n",
      "Epoch 56/100\n",
      "32/32 [==============================] - 0s 2ms/step - loss: 0.0224 - val_loss: 0.0252\n",
      "Epoch 57/100\n",
      "32/32 [==============================] - 0s 3ms/step - loss: 0.0225 - val_loss: 0.0252\n",
      "Epoch 58/100\n",
      "32/32 [==============================] - 0s 3ms/step - loss: 0.0225 - val_loss: 0.0252\n",
      "Epoch 59/100\n",
      "32/32 [==============================] - 0s 3ms/step - loss: 0.0225 - val_loss: 0.0251\n",
      "Epoch 60/100\n",
      "32/32 [==============================] - 0s 2ms/step - loss: 0.0224 - val_loss: 0.0252\n",
      "Epoch 61/100\n",
      "32/32 [==============================] - 0s 2ms/step - loss: 0.0226 - val_loss: 0.0252\n",
      "Epoch 62/100\n",
      "32/32 [==============================] - 0s 2ms/step - loss: 0.0225 - val_loss: 0.0253\n",
      "Epoch 63/100\n",
      "32/32 [==============================] - 0s 2ms/step - loss: 0.0224 - val_loss: 0.0261\n",
      "Epoch 64/100\n",
      "32/32 [==============================] - 0s 2ms/step - loss: 0.0225 - val_loss: 0.0251\n",
      "Epoch 65/100\n",
      "32/32 [==============================] - 0s 3ms/step - loss: 0.0225 - val_loss: 0.0257\n",
      "Epoch 66/100\n",
      "32/32 [==============================] - 0s 2ms/step - loss: 0.0224 - val_loss: 0.0253\n",
      "Epoch 67/100\n",
      "32/32 [==============================] - 0s 2ms/step - loss: 0.0225 - val_loss: 0.0252\n",
      "Epoch 68/100\n",
      "32/32 [==============================] - 0s 2ms/step - loss: 0.0223 - val_loss: 0.0251\n",
      "Epoch 69/100\n",
      "32/32 [==============================] - 0s 2ms/step - loss: 0.0225 - val_loss: 0.0262\n",
      "Epoch 70/100\n",
      "32/32 [==============================] - 0s 2ms/step - loss: 0.0226 - val_loss: 0.0252\n",
      "Epoch 71/100\n",
      "32/32 [==============================] - 0s 2ms/step - loss: 0.0223 - val_loss: 0.0252\n",
      "Epoch 72/100\n",
      "32/32 [==============================] - 0s 2ms/step - loss: 0.0223 - val_loss: 0.0252\n",
      "Epoch 73/100\n",
      "32/32 [==============================] - 0s 2ms/step - loss: 0.0223 - val_loss: 0.0251\n",
      "Epoch 74/100\n",
      "32/32 [==============================] - 0s 3ms/step - loss: 0.0224 - val_loss: 0.0253\n",
      "Epoch 75/100\n",
      "32/32 [==============================] - 0s 2ms/step - loss: 0.0225 - val_loss: 0.0252\n",
      "Epoch 76/100\n",
      "32/32 [==============================] - 0s 2ms/step - loss: 0.0223 - val_loss: 0.0254\n",
      "Epoch 77/100\n",
      "32/32 [==============================] - 0s 2ms/step - loss: 0.0224 - val_loss: 0.0255\n",
      "Epoch 78/100\n",
      "32/32 [==============================] - 0s 2ms/step - loss: 0.0224 - val_loss: 0.0251\n",
      "Epoch 79/100\n",
      "32/32 [==============================] - 0s 2ms/step - loss: 0.0223 - val_loss: 0.0253\n",
      "Epoch 80/100\n",
      "32/32 [==============================] - 0s 2ms/step - loss: 0.0223 - val_loss: 0.0252\n",
      "Epoch 81/100\n",
      "32/32 [==============================] - 0s 3ms/step - loss: 0.0224 - val_loss: 0.0252\n",
      "Epoch 82/100\n",
      "32/32 [==============================] - 0s 2ms/step - loss: 0.0225 - val_loss: 0.0251\n",
      "Epoch 83/100\n",
      "32/32 [==============================] - 0s 2ms/step - loss: 0.0223 - val_loss: 0.0252\n",
      "Epoch 84/100\n",
      "32/32 [==============================] - 0s 2ms/step - loss: 0.0223 - val_loss: 0.0252\n",
      "Epoch 85/100\n",
      "32/32 [==============================] - 0s 2ms/step - loss: 0.0224 - val_loss: 0.0255\n",
      "Epoch 86/100\n",
      "32/32 [==============================] - 0s 2ms/step - loss: 0.0226 - val_loss: 0.0255\n",
      "Epoch 87/100\n",
      "32/32 [==============================] - 0s 2ms/step - loss: 0.0225 - val_loss: 0.0252\n",
      "Epoch 88/100\n",
      "32/32 [==============================] - 0s 2ms/step - loss: 0.0224 - val_loss: 0.0251\n",
      "Epoch 89/100\n",
      "32/32 [==============================] - 0s 2ms/step - loss: 0.0225 - val_loss: 0.0253\n",
      "Epoch 90/100\n",
      "32/32 [==============================] - 0s 2ms/step - loss: 0.0225 - val_loss: 0.0252\n",
      "Epoch 91/100\n",
      "32/32 [==============================] - 0s 2ms/step - loss: 0.0223 - val_loss: 0.0252\n",
      "Epoch 92/100\n",
      "32/32 [==============================] - 0s 2ms/step - loss: 0.0224 - val_loss: 0.0260\n",
      "Epoch 93/100\n",
      "32/32 [==============================] - 0s 2ms/step - loss: 0.0226 - val_loss: 0.0254\n",
      "Epoch 94/100\n",
      "32/32 [==============================] - 0s 2ms/step - loss: 0.0225 - val_loss: 0.0254\n",
      "Epoch 95/100\n",
      "32/32 [==============================] - 0s 2ms/step - loss: 0.0224 - val_loss: 0.0253\n",
      "Epoch 96/100\n",
      "32/32 [==============================] - 0s 2ms/step - loss: 0.0225 - val_loss: 0.0252\n",
      "Epoch 97/100\n",
      "32/32 [==============================] - 0s 2ms/step - loss: 0.0224 - val_loss: 0.0252\n",
      "Epoch 98/100\n",
      "32/32 [==============================] - 0s 2ms/step - loss: 0.0223 - val_loss: 0.0252\n",
      "Epoch 99/100\n",
      "32/32 [==============================] - 0s 2ms/step - loss: 0.0224 - val_loss: 0.0252\n",
      "Epoch 100/100\n",
      "32/32 [==============================] - 0s 2ms/step - loss: 0.0225 - val_loss: 0.0252\n"
     ]
    }
   ],
   "source": [
    "from keras.optimizers import adam_v2\n",
    "model=Sequential() #初始化模型\n",
    "model.add(Dense(32,input_shape=(5,),activation='tanh'))#添加一个隐含层，注：只是第一个隐含层需指定input_dim\n",
    "model.add(Dense(16,activation='tanh'))\n",
    "model.add(Dense(8,activation='tanh'))\n",
    "model.add(Dense(4,activation='tanh'))\n",
    "model.add(Dense(1)) #添加输出层\n",
    "model.compile(loss='mse', optimizer='adam')  # 编译，指定目标函数与优化方法\n",
    "history = model.fit(X_train,Y_train,epochs=100,validation_data=(X_test,Y_test),batch_size=100)"
   ]
  },
  {
   "cell_type": "code",
   "execution_count": 89,
   "metadata": {},
   "outputs": [],
   "source": [
    "loss=history.history['loss']\n",
    "val_loss=history.history['val_loss']"
   ]
  },
  {
   "cell_type": "code",
   "execution_count": 90,
   "metadata": {},
   "outputs": [],
   "source": [
    "np.savetxt('loss.txt',loss,fmt='%f')\n",
    "np.savetxt('val_loss.txt',val_loss,fmt='%f')"
   ]
  },
  {
   "cell_type": "code",
   "execution_count": 91,
   "metadata": {},
   "outputs": [
    {
     "data": {
      "image/png": "[encoded data removed]",
      "text/plain": [
       "<Figure size 432x288 with 1 Axes>"
      ]
     },
     "metadata": {
      "needs_background": "light"
     },
     "output_type": "display_data"
    }
   ],
   "source": [
    "pyplot.plot(history.history['loss'], label='train')\n",
    "pyplot.plot(history.history['val_loss'], label='test')\n",
    "pyplot.legend()\n",
    "pyplot.xlabel('Epochs', fontsize = 12)\n",
    "pyplot.ylabel('Loss', fontsize = 12)\n",
    "pyplot.savefig(\"./loss.png\")"
   ]
  },
  {
   "cell_type": "code",
   "execution_count": 92,
   "metadata": {},
   "outputs": [],
   "source": [
    "prediction_y = model.predict(X_test)"
   ]
  },
  {
   "cell_type": "code",
   "execution_count": 93,
   "metadata": {},
   "outputs": [],
   "source": [
    "Y_pre=mm.inverse_transform(prediction_y)"
   ]
  },
  {
   "cell_type": "code",
   "execution_count": 97,
   "metadata": {},
   "outputs": [],
   "source": [
    "Y_real=mm.inverse_transform(Y_test)"
   ]
  },
  {
   "cell_type": "code",
   "execution_count": 98,
   "metadata": {},
   "outputs": [],
   "source": [
    "cha=Y_pre-Y_real"
   ]
  },
  {
   "cell_type": "code",
   "execution_count": 99,
   "metadata": {},
   "outputs": [
    {
     "name": "stdout",
     "output_type": "stream",
     "text": [
      "Test MAE: 1.054\n",
      "Test MSE: 2.059\n"
     ]
    }
   ],
   "source": [
    "from sklearn.metrics import mean_absolute_error, mean_squared_error, r2_score\n",
    "mae = mean_absolute_error(Y_real, Y_pre)\n",
    "mse = mean_squared_error(Y_real, Y_pre)\n",
    "print('Test MAE: %.3f' % mae)\n",
    "print('Test MSE: %.3f' % mse)"
   ]
  },
  {
   "cell_type": "code",
   "execution_count": 100,
   "metadata": {},
   "outputs": [
    {
     "name": "stdout",
     "output_type": "stream",
     "text": [
      "Test RMSE: 1.435\n"
     ]
    }
   ],
   "source": [
    "from math import sqrt\n",
    "rmse = sqrt(mean_squared_error(Y_real, Y_pre))\n",
    "print('Test RMSE: %.3f' % rmse)"
   ]
  },
  {
   "cell_type": "code",
   "execution_count": 64,
   "metadata": {},
   "outputs": [],
   "source": [
    "def MAPE(Y_real,Y_pre):#计算mape\n",
    "    return np.mean(np.abs((Y_real - Y_pre) / Y_real)) * 100"
   ]
  },
  {
   "cell_type": "code",
   "execution_count": 65,
   "metadata": {},
   "outputs": [],
   "source": [
    "mape=MAPE(Y_real, Y_pre)"
   ]
  },
  {
   "cell_type": "code",
   "execution_count": 66,
   "metadata": {},
   "outputs": [
    {
     "data": {
      "text/plain": [
       "374.9015721408781"
      ]
     },
     "execution_count": 66,
     "metadata": {},
     "output_type": "execute_result"
    }
   ],
   "source": [
    "mape"
   ]
  },
  {
   "cell_type": "code",
   "execution_count": 23,
   "metadata": {},
   "outputs": [
    {
     "name": "stdout",
     "output_type": "stream",
     "text": [
      "Score for fold 1: loss of 0.019407425075769424\n",
      "Score for fold 2: loss of 0.02353452891111374\n",
      "Score for fold 3: loss of 0.021221529692411423\n",
      "Score for fold 4: loss of 0.021424032747745514\n",
      "Score for fold 5: loss of 0.023078657686710358\n",
      "Score for fold 6: loss of 0.020592575892806053\n",
      "Score for fold 7: loss of 0.02283821441233158\n",
      "Score for fold 8: loss of 0.022705266252160072\n",
      "Score for fold 9: loss of 0.026860138401389122\n",
      "Score for fold 10: loss of 0.024046458303928375\n",
      "average_score: 0.022570882737636567\n"
     ]
    }
   ],
   "source": [
    "#2\n",
    "from sklearn.model_selection import KFold\n",
    "\n",
    "\n",
    "# 定义10折交叉验证\n",
    "kf = KFold(n_splits=10)\n",
    "average_score = 0\n",
    "fold_no = 1\n",
    "for train, test in kf.split(X, Y):\n",
    "\n",
    "    # 在每次的循环中，都需要重新构建模型\n",
    "    model = Sequential() \n",
    "    model.add(Dense(32,input_shape=(5,),activation='tanh'))\n",
    "    model.add(Dense(16,activation='tanh'))\n",
    "    model.add(Dense(8,activation='tanh'))\n",
    "    model.add(Dense(1))\n",
    "    model.compile(loss='mse', optimizer='adam')\n",
    "\n",
    "    # 训练模型\n",
    "    history = model.fit(X[train], Y[train], epochs=100, verbose=0)  # 根据情况调整epochs的数量\n",
    "\n",
    "    # 评估模型\n",
    "    scores = model.evaluate(X[test], Y[test], verbose=0)\n",
    "    print(f'Score for fold {fold_no}: {model.metrics_names[0]} of {scores}') \n",
    "\n",
    "    average_score += scores\n",
    "\n",
    "    fold_no = fold_no + 1\n",
    "\n",
    "print('average_score:', average_score/(fold_no-1))"
   ]
  },
  {
   "cell_type": "code",
   "execution_count": 24,
   "metadata": {},
   "outputs": [
    {
     "name": "stdout",
     "output_type": "stream",
     "text": [
      "Score for fold 1: loss of 0.019006749615073204\n",
      "Score for fold 2: loss of 0.024016454815864563\n",
      "Score for fold 3: loss of 0.02143840119242668\n",
      "Score for fold 4: loss of 0.021376892924308777\n",
      "Score for fold 5: loss of 0.02288568764925003\n",
      "Score for fold 6: loss of 0.02071939967572689\n",
      "Score for fold 7: loss of 0.022322535514831543\n",
      "Score for fold 8: loss of 0.022837631404399872\n",
      "Score for fold 9: loss of 0.026804903522133827\n",
      "Score for fold 10: loss of 0.024694224819540977\n",
      "average_score: 0.022610288113355637\n"
     ]
    }
   ],
   "source": [
    "#3\n",
    "from sklearn.model_selection import KFold\n",
    "\n",
    "\n",
    "# 定义10折交叉验证\n",
    "kf = KFold(n_splits=10)\n",
    "average_score = 0\n",
    "fold_no = 1\n",
    "for train, test in kf.split(X, Y):\n",
    "\n",
    "    # 在每次的循环中，都需要重新构建模型\n",
    "    model = Sequential() \n",
    "    model.add(Dense(16,input_shape=(5,),activation='tanh'))\n",
    "    model.add(Dense(8,activation='tanh'))\n",
    "    model.add(Dense(1))\n",
    "    model.compile(loss='mse', optimizer='adam')\n",
    "\n",
    "    # 训练模型\n",
    "    history = model.fit(X[train], Y[train], epochs=100, verbose=0)  # 根据情况调整epochs的数量\n",
    "\n",
    "    # 评估模型\n",
    "    scores = model.evaluate(X[test], Y[test], verbose=0)\n",
    "    print(f'Score for fold {fold_no}: {model.metrics_names[0]} of {scores}') \n",
    "\n",
    "    average_score += scores\n",
    "\n",
    "    fold_no = fold_no + 1\n",
    "\n",
    "print('average_score:', average_score/(fold_no-1))"
   ]
  },
  {
   "cell_type": "code",
   "execution_count": 25,
   "metadata": {},
   "outputs": [
    {
     "name": "stderr",
     "output_type": "stream",
     "text": [
      "D:\\Anaconda3\\lib\\site-packages\\keras\\optimizer_v2\\adam.py:105: UserWarning: The `lr` argument is deprecated, use `learning_rate` instead.\n",
      "  super(Adam, self).__init__(name, **kwargs)\n"
     ]
    },
    {
     "name": "stdout",
     "output_type": "stream",
     "text": [
      "Score for fold 1: loss of 0.019128622487187386\n",
      "Score for fold 2: loss of 0.023645853623747826\n",
      "Score for fold 3: loss of 0.0209127776324749\n",
      "Score for fold 4: loss of 0.021620282903313637\n",
      "Score for fold 5: loss of 0.02341899648308754\n",
      "Score for fold 6: loss of 0.020603926852345467\n",
      "Score for fold 7: loss of 0.022236015647649765\n",
      "Score for fold 8: loss of 0.02295037917792797\n",
      "Score for fold 9: loss of 0.02671905793249607\n",
      "Score for fold 10: loss of 0.026247205212712288\n",
      "average_score: 0.022748311795294286\n"
     ]
    }
   ],
   "source": [
    "#4\n",
    "from keras import optimizers\n",
    "from sklearn.model_selection import KFold\n",
    "from keras.optimizers import adam_v2\n",
    "\n",
    "# 定义10折交叉验证\n",
    "kf = KFold(n_splits=10)\n",
    "average_score = 0\n",
    "fold_no = 1\n",
    "for train, test in kf.split(X, Y):\n",
    "\n",
    "    # 在每次的循环中，都需要重新构建模型\n",
    "    model = Sequential() \n",
    "    model.add(Dense(32,input_shape=(5,),activation='tanh'))\n",
    "    model.add(Dense(16,activation='tanh'))\n",
    "    model.add(Dense(8,activation='tanh'))\n",
    "    model.add(Dense(4,activation='tanh'))\n",
    "    model.add(Dense(1))\n",
    "    adam = optimizers.adam_v2.Adam(lr=0.0001)\n",
    "    model.compile(loss='mse', optimizer='adam')\n",
    "\n",
    "    # 训练模型\n",
    "    history = model.fit(X[train], Y[train], epochs=100, verbose=0)  # 根据情况调整epochs的数量\n",
    "\n",
    "    # 评估模型\n",
    "    scores = model.evaluate(X[test], Y[test], verbose=0)\n",
    "    print(f'Score for fold {fold_no}: {model.metrics_names[0]} of {scores}') \n",
    "\n",
    "    average_score += scores\n",
    "\n",
    "    fold_no = fold_no + 1\n",
    "\n",
    "print('average_score:', average_score/(fold_no-1))"
   ]
  },
  {
   "cell_type": "code",
   "execution_count": 26,
   "metadata": {},
   "outputs": [
    {
     "name": "stdout",
     "output_type": "stream",
     "text": [
      "Score for fold 1: loss of 0.018839877098798752\n",
      "Score for fold 2: loss of 0.02384530007839203\n",
      "Score for fold 3: loss of 0.020982468500733376\n",
      "Score for fold 4: loss of 0.021452276036143303\n",
      "Score for fold 5: loss of 0.02300938405096531\n",
      "Score for fold 6: loss of 0.020739024505019188\n",
      "Score for fold 7: loss of 0.022146150469779968\n",
      "Score for fold 8: loss of 0.023190705105662346\n",
      "Score for fold 9: loss of 0.02674025483429432\n",
      "Score for fold 10: loss of 0.024442508816719055\n",
      "average_score: 0.022538794949650765\n"
     ]
    }
   ],
   "source": [
    "#5\n",
    "from keras import optimizers\n",
    "from sklearn.model_selection import KFold\n",
    "from keras.optimizers import adam_v2\n",
    "# 定义10折交叉验证\n",
    "kf = KFold(n_splits=10)\n",
    "average_score = 0\n",
    "fold_no = 1\n",
    "for train, test in kf.split(X, Y):\n",
    "\n",
    "    # 在每次的循环中，都需要重新构建模型\n",
    "    model = Sequential() \n",
    "    model.add(Dense(32,input_shape=(5,),activation='tanh'))\n",
    "    model.add(Dense(16,activation='tanh'))\n",
    "    model.add(Dense(8,activation='tanh'))\n",
    "    model.add(Dense(1))\n",
    "    adam = optimizers.adam_v2.Adam(lr=0.0001)\n",
    "    model.compile(loss='mse', optimizer='adam')\n",
    "\n",
    "    # 训练模型\n",
    "    history = model.fit(X[train], Y[train], epochs=100, verbose=0)  # 根据情况调整epochs的数量\n",
    "\n",
    "    # 评估模型\n",
    "    scores = model.evaluate(X[test], Y[test], verbose=0)\n",
    "    print(f'Score for fold {fold_no}: {model.metrics_names[0]} of {scores}') \n",
    "\n",
    "    average_score += scores\n",
    "\n",
    "    fold_no = fold_no + 1\n",
    "\n",
    "print('average_score:', average_score/(fold_no-1))"
   ]
  },
  {
   "cell_type": "code",
   "execution_count": 27,
   "metadata": {},
   "outputs": [
    {
     "name": "stdout",
     "output_type": "stream",
     "text": [
      "Score for fold 1: loss of 0.01884976029396057\n",
      "Score for fold 2: loss of 0.02388474904000759\n",
      "Score for fold 3: loss of 0.021149827167391777\n",
      "Score for fold 4: loss of 0.021748069673776627\n",
      "Score for fold 5: loss of 0.022698499262332916\n",
      "Score for fold 6: loss of 0.02049705944955349\n",
      "Score for fold 7: loss of 0.022254785522818565\n",
      "Score for fold 8: loss of 0.02267690934240818\n",
      "Score for fold 9: loss of 0.026957908645272255\n",
      "Score for fold 10: loss of 0.02405204065144062\n",
      "average_score: 0.02247696090489626\n"
     ]
    }
   ],
   "source": [
    "#6\n",
    "from keras import optimizers\n",
    "from sklearn.model_selection import KFold\n",
    "from keras.optimizers import adam_v2\n",
    "# 定义10折交叉验证\n",
    "kf = KFold(n_splits=10)\n",
    "average_score = 0\n",
    "fold_no = 1\n",
    "for train, test in kf.split(X, Y):\n",
    "\n",
    "    # 在每次的循环中，都需要重新构建模型\n",
    "    model = Sequential() \n",
    "    model.add(Dense(16,input_shape=(5,),activation='tanh'))\n",
    "    model.add(Dense(8,activation='tanh'))\n",
    "    model.add(Dense(1))\n",
    "    adam = optimizers.adam_v2.Adam(lr=0.0001)\n",
    "    model.compile(loss='mse', optimizer='adam')\n",
    "\n",
    "    # 训练模型\n",
    "    history = model.fit(X[train], Y[train], epochs=100, verbose=0)  # 根据情况调整epochs的数量\n",
    "\n",
    "    # 评估模型\n",
    "    scores = model.evaluate(X[test], Y[test], verbose=0)\n",
    "    print(f'Score for fold {fold_no}: {model.metrics_names[0]} of {scores}') \n",
    "\n",
    "    average_score += scores\n",
    "\n",
    "    fold_no = fold_no + 1\n",
    "\n",
    "print('average_score:', average_score/(fold_no-1))"
   ]
  },
  {
   "cell_type": "code",
   "execution_count": 28,
   "metadata": {},
   "outputs": [
    {
     "name": "stderr",
     "output_type": "stream",
     "text": [
      "D:\\Anaconda3\\lib\\site-packages\\keras\\optimizer_v2\\gradient_descent.py:102: UserWarning: The `lr` argument is deprecated, use `learning_rate` instead.\n",
      "  super(SGD, self).__init__(name, **kwargs)\n"
     ]
    },
    {
     "name": "stdout",
     "output_type": "stream",
     "text": [
      "Score for fold 1: loss of 0.019132710993289948\n",
      "Score for fold 2: loss of 0.024468302726745605\n",
      "Score for fold 3: loss of 0.02117164246737957\n",
      "Score for fold 4: loss of 0.02187878079712391\n",
      "Score for fold 5: loss of 0.02273283340036869\n",
      "Score for fold 6: loss of 0.020609354600310326\n",
      "Score for fold 7: loss of 0.022474676370620728\n",
      "Score for fold 8: loss of 0.022978883236646652\n",
      "Score for fold 9: loss of 0.026985954493284225\n",
      "Score for fold 10: loss of 0.024383824318647385\n",
      "average_score: 0.022681696340441704\n"
     ]
    }
   ],
   "source": [
    "#7 SGD优化器\n",
    "from keras import optimizers\n",
    "from sklearn.model_selection import KFold\n",
    "from tensorflow.keras.optimizers import SGD\n",
    "# 定义10折交叉验证\n",
    "kf = KFold(n_splits=10)\n",
    "average_score = 0\n",
    "fold_no = 1\n",
    "for train, test in kf.split(X, Y):\n",
    "\n",
    "    # 在每次的循环中，都需要重新构建模型\n",
    "    model = Sequential() \n",
    "    model.add(Dense(32,input_shape=(5,),activation='tanh'))\n",
    "    model.add(Dense(16,activation='tanh'))\n",
    "    model.add(Dense(8,activation='tanh'))\n",
    "    model.add(Dense(4,activation='tanh'))\n",
    "    model.add(Dense(1))\n",
    "    sgd = optimizers.gradient_descent_v2.SGD(lr=0.001)\n",
    "    model.compile(loss='mse', optimizer='sgd')\n",
    "\n",
    "    # 训练模型\n",
    "    history = model.fit(X[train], Y[train], epochs=100, verbose=0)  # 根据情况调整epochs的数量\n",
    "\n",
    "    # 评估模型\n",
    "    scores = model.evaluate(X[test], Y[test], verbose=0)\n",
    "    print(f'Score for fold {fold_no}: {model.metrics_names[0]} of {scores}') \n",
    "\n",
    "    average_score += scores\n",
    "\n",
    "    fold_no = fold_no + 1\n",
    "\n",
    "print('average_score:', average_score/(fold_no-1))"
   ]
  },
  {
   "cell_type": "code",
   "execution_count": 29,
   "metadata": {},
   "outputs": [
    {
     "name": "stdout",
     "output_type": "stream",
     "text": [
      "Score for fold 1: loss of 0.019164102151989937\n",
      "Score for fold 2: loss of 0.02387324348092079\n",
      "Score for fold 3: loss of 0.02105099707841873\n",
      "Score for fold 4: loss of 0.021607989445328712\n",
      "Score for fold 5: loss of 0.022925741970539093\n",
      "Score for fold 6: loss of 0.020933158695697784\n",
      "Score for fold 7: loss of 0.022470176219940186\n",
      "Score for fold 8: loss of 0.022429799661040306\n",
      "Score for fold 9: loss of 0.027176562696695328\n",
      "Score for fold 10: loss of 0.02432657778263092\n",
      "average_score: 0.02259583491832018\n"
     ]
    }
   ],
   "source": [
    "#8 SGD优化器\n",
    "from keras import optimizers\n",
    "from sklearn.model_selection import KFold\n",
    "from tensorflow.keras.optimizers import SGD\n",
    "# 定义10折交叉验证\n",
    "kf = KFold(n_splits=10)\n",
    "average_score = 0\n",
    "fold_no = 1\n",
    "for train, test in kf.split(X, Y):\n",
    "\n",
    "    # 在每次的循环中，都需要重新构建模型\n",
    "    model = Sequential() \n",
    "    model.add(Dense(32,input_shape=(5,),activation='tanh'))\n",
    "    model.add(Dense(16,activation='tanh'))\n",
    "    model.add(Dense(8,activation='tanh'))\n",
    "    model.add(Dense(1))\n",
    "    sgd = optimizers.gradient_descent_v2.SGD(lr=0.001)\n",
    "    model.compile(loss='mse', optimizer='sgd')\n",
    "\n",
    "    # 训练模型\n",
    "    history = model.fit(X[train], Y[train], epochs=100,verbose=0)  # 根据情况调整epochs的数量\n",
    "\n",
    "    # 评估模型\n",
    "    scores = model.evaluate(X[test], Y[test], verbose=0)\n",
    "    print(f'Score for fold {fold_no}: {model.metrics_names[0]} of {scores}') \n",
    "\n",
    "    average_score += scores\n",
    "\n",
    "    fold_no = fold_no + 1\n",
    "\n",
    "print('average_score:', average_score/(fold_no-1))"
   ]
  },
  {
   "cell_type": "code",
   "execution_count": 30,
   "metadata": {},
   "outputs": [
    {
     "name": "stdout",
     "output_type": "stream",
     "text": [
      "Score for fold 1: loss of 0.019043980166316032\n",
      "Score for fold 2: loss of 0.024135278537869453\n",
      "Score for fold 3: loss of 0.02110852487385273\n",
      "Score for fold 4: loss of 0.022155292332172394\n",
      "Score for fold 5: loss of 0.022704584524035454\n",
      "Score for fold 6: loss of 0.020755000412464142\n",
      "Score for fold 7: loss of 0.02283814549446106\n",
      "Score for fold 8: loss of 0.022153232246637344\n",
      "Score for fold 9: loss of 0.02700521983206272\n",
      "Score for fold 10: loss of 0.024363141506910324\n",
      "average_score: 0.022626239992678165\n"
     ]
    }
   ],
   "source": [
    "#9 SGD优化器\n",
    "from keras import optimizers\n",
    "from sklearn.model_selection import KFold\n",
    "from tensorflow.keras.optimizers import SGD\n",
    "# 定义10折交叉验证\n",
    "kf = KFold(n_splits=10)\n",
    "average_score = 0\n",
    "fold_no = 1\n",
    "for train, test in kf.split(X, Y):\n",
    "\n",
    "    # 在每次的循环中，都需要重新构建模型\n",
    "    model = Sequential() \n",
    "    model.add(Dense(16,input_shape=(5,),activation='tanh'))\n",
    "    model.add(Dense(8,activation='tanh'))\n",
    "    model.add(Dense(1))\n",
    "    sgd = optimizers.gradient_descent_v2.SGD(lr=0.001)\n",
    "    model.compile(loss='mse', optimizer='sgd')\n",
    "\n",
    "    # 训练模型\n",
    "    history = model.fit(X[train], Y[train], epochs=100, verbose=0)  # 根据情况调整epochs的数量\n",
    "\n",
    "    # 评估模型\n",
    "    scores = model.evaluate(X[test], Y[test], verbose=0)\n",
    "    print(f'Score for fold {fold_no}: {model.metrics_names[0]} of {scores}') \n",
    "\n",
    "    average_score += scores\n",
    "\n",
    "    fold_no = fold_no + 1\n",
    "\n",
    "print('average_score:', average_score/(fold_no-1))"
   ]
  },
  {
   "cell_type": "code",
   "execution_count": 31,
   "metadata": {},
   "outputs": [
    {
     "name": "stdout",
     "output_type": "stream",
     "text": [
      "Score for fold 1: loss of 0.019518332555890083\n",
      "Score for fold 2: loss of 0.02438138984143734\n",
      "Score for fold 3: loss of 0.020961634814739227\n",
      "Score for fold 4: loss of 0.021686721593141556\n",
      "Score for fold 5: loss of 0.02286076918244362\n",
      "Score for fold 6: loss of 0.020522955805063248\n",
      "Score for fold 7: loss of 0.022441381588578224\n",
      "Score for fold 8: loss of 0.02255587838590145\n",
      "Score for fold 9: loss of 0.02696322835981846\n",
      "Score for fold 10: loss of 0.024591926485300064\n",
      "average_score: 0.022648421861231328\n"
     ]
    }
   ],
   "source": [
    "#10 SGD优化器\n",
    "from keras import optimizers\n",
    "from sklearn.model_selection import KFold\n",
    "from tensorflow.keras.optimizers import SGD\n",
    "# 定义10折交叉验证\n",
    "kf = KFold(n_splits=10)\n",
    "average_score = 0\n",
    "fold_no = 1\n",
    "for train, test in kf.split(X, Y):\n",
    "\n",
    "    # 在每次的循环中，都需要重新构建模型\n",
    "    model = Sequential() \n",
    "    model.add(Dense(32,input_shape=(5,),activation='tanh'))\n",
    "    model.add(Dense(16,activation='tanh'))\n",
    "    model.add(Dense(8,activation='tanh'))\n",
    "    model.add(Dense(4,activation='tanh'))\n",
    "    model.add(Dense(1))\n",
    "    sgd = optimizers.gradient_descent_v2.SGD(lr=0.0001)\n",
    "    model.compile(loss='mse', optimizer='sgd')\n",
    "\n",
    "    # 训练模型\n",
    "    history = model.fit(X[train], Y[train], epochs=100, verbose=0)  # 根据情况调整epochs的数量\n",
    "\n",
    "    # 评估模型\n",
    "    scores = model.evaluate(X[test], Y[test], verbose=0)\n",
    "    print(f'Score for fold {fold_no}: {model.metrics_names[0]} of {scores}') \n",
    "\n",
    "    average_score += scores\n",
    "\n",
    "    fold_no = fold_no + 1\n",
    "\n",
    "print('average_score:', average_score/(fold_no-1))"
   ]
  },
  {
   "cell_type": "code",
   "execution_count": 32,
   "metadata": {},
   "outputs": [
    {
     "name": "stdout",
     "output_type": "stream",
     "text": [
      "Score for fold 1: loss of 0.018932243809103966\n",
      "Score for fold 2: loss of 0.023941397666931152\n",
      "Score for fold 3: loss of 0.020998766645789146\n",
      "Score for fold 4: loss of 0.021800650283694267\n",
      "Score for fold 5: loss of 0.023233041167259216\n",
      "Score for fold 6: loss of 0.02060151845216751\n",
      "Score for fold 7: loss of 0.022555941715836525\n",
      "Score for fold 8: loss of 0.022667618468403816\n",
      "Score for fold 9: loss of 0.027585001662373543\n",
      "Score for fold 10: loss of 0.024514714255928993\n",
      "average_score: 0.022683089412748814\n"
     ]
    }
   ],
   "source": [
    "#11 SGD优化器\n",
    "from keras import optimizers\n",
    "from sklearn.model_selection import KFold\n",
    "from tensorflow.keras.optimizers import SGD\n",
    "# 定义10折交叉验证\n",
    "kf = KFold(n_splits=10)\n",
    "average_score = 0\n",
    "fold_no = 1\n",
    "for train, test in kf.split(X, Y):\n",
    "\n",
    "    # 在每次的循环中，都需要重新构建模型\n",
    "    model = Sequential() \n",
    "    model.add(Dense(32,input_shape=(5,),activation='tanh'))\n",
    "    model.add(Dense(16,activation='tanh'))\n",
    "    model.add(Dense(4,activation='tanh'))\n",
    "    model.add(Dense(1))\n",
    "    model.compile(loss='mse', optimizer='sgd')\n",
    "\n",
    "    # 训练模型\n",
    "    history = model.fit(X[train], Y[train], epochs=100, verbose=0)  # 根据情况调整epochs的数量\n",
    "\n",
    "    # 评估模型\n",
    "    scores = model.evaluate(X[test], Y[test], verbose=0)\n",
    "    print(f'Score for fold {fold_no}: {model.metrics_names[0]} of {scores}') \n",
    "\n",
    "    average_score += scores\n",
    "\n",
    "    fold_no = fold_no + 1\n",
    "\n",
    "print('average_score:', average_score/(fold_no-1))"
   ]
  },
  {
   "cell_type": "code",
   "execution_count": 33,
   "metadata": {},
   "outputs": [
    {
     "name": "stdout",
     "output_type": "stream",
     "text": [
      "Score for fold 1: loss of 0.01919964887201786\n",
      "Score for fold 2: loss of 0.024201905354857445\n",
      "Score for fold 3: loss of 0.021305741742253304\n",
      "Score for fold 4: loss of 0.021575169637799263\n",
      "Score for fold 5: loss of 0.02279576286673546\n",
      "Score for fold 6: loss of 0.020529568195343018\n",
      "Score for fold 7: loss of 0.022510569542646408\n",
      "Score for fold 8: loss of 0.02251635491847992\n",
      "Score for fold 9: loss of 0.026954278349876404\n",
      "Score for fold 10: loss of 0.025057382881641388\n",
      "average_score: 0.022664638236165047\n"
     ]
    }
   ],
   "source": [
    "#12 SGD优化器\n",
    "from keras import optimizers\n",
    "from keras import optimizers\n",
    "from sklearn.model_selection import KFold\n",
    "from tensorflow.keras.optimizers import SGD\n",
    "# 定义10折交叉验证\n",
    "kf = KFold(n_splits=10)\n",
    "average_score = 0\n",
    "fold_no = 1\n",
    "for train, test in kf.split(X, Y):\n",
    "\n",
    "    # 在每次的循环中，都需要重新构建模型\n",
    "    model = Sequential() \n",
    "    model.add(Dense(16,input_shape=(5,),activation='tanh'))\n",
    "    model.add(Dense(8,activation='tanh'))\n",
    "    model.add(Dense(1))\n",
    "    sgd = optimizers.gradient_descent_v2.SGD(lr=0.0001)\n",
    "    model.compile(loss='mse', optimizer='sgd')\n",
    "\n",
    "    # 训练模型\n",
    "    history = model.fit(X[train], Y[train], epochs=100, verbose=0)  # 根据情况调整epochs的数量\n",
    "\n",
    "    # 评估模型\n",
    "    scores = model.evaluate(X[test], Y[test], verbose=0)\n",
    "    print(f'Score for fold {fold_no}: {model.metrics_names[0]} of {scores}') \n",
    "\n",
    "    average_score += scores\n",
    "\n",
    "    fold_no = fold_no + 1\n",
    "\n",
    "print('average_score:', average_score/(fold_no-1))"
   ]
  },
  {
   "cell_type": "code",
   "execution_count": null,
   "metadata": {},
   "outputs": [],
   "source": []
  }
 ],
 "metadata": {
  "kernelspec": {
   "display_name": "Python 3",
   "language": "python",
   "name": "python3"
  },
  "language_info": {
   "codemirror_mode": {
    "name": "ipython",
    "version": 3
   },
   "file_extension": ".py",
   "mimetype": "text/x-python",
   "name": "python",
   "nbconvert_exporter": "python",
   "pygments_lexer": "ipython3",
   "version": "3.8.5"
  }
 },
 "nbformat": 4,
 "nbformat_minor": 4
}
