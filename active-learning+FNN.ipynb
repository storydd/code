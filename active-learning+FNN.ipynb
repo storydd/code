{
 "cells": [
  {
   "cell_type": "code",
   "execution_count": 1,
   "metadata": {},
   "outputs": [],
   "source": [
    "import pandas as pd\n",
    "import numpy as np\n",
    "from numpy import array\n",
    "import random\n",
    "from sklearn.preprocessing import OneHotEncoder\n",
    "from sklearn import preprocessing\n",
    "from keras.models import Sequential\n",
    "from keras.models import load_model\n",
    "from keras.layers import Dense, Dropout\n",
    "from keras.layers import LSTM\n",
    "from keras import regularizers\n",
    "from matplotlib import pyplot\n",
    "import openpyxl\n",
    "import os\n",
    "import tensorflow as tf\n",
    "from keras import optimizers\n",
    "from sklearn.preprocessing import MinMaxScaler,StandardScaler"
   ]
  },
  {
   "cell_type": "code",
   "execution_count": 2,
   "metadata": {},
   "outputs": [],
   "source": [
    "X=pd.read_excel(open('t.xlsx', 'rb'),sheet_name='最终数据集',usecols=[1,2,3,4,5])\n",
    "y=pd.read_excel(open('t.xlsx', 'rb'),sheet_name='最终数据集', usecols=[6])"
   ]
  },
  {
   "cell_type": "code",
   "execution_count": 3,
   "metadata": {},
   "outputs": [
    {
     "data": {
      "text/plain": [
       "array([[4.51309060e-03, 6.92956613e-01, 9.00893032e-01, 2.99035605e-01,\n",
       "        0.00000000e+00],\n",
       "       [1.72762148e-03, 7.61284971e-01, 8.18152035e-01, 2.87403338e-01,\n",
       "        0.00000000e+00],\n",
       "       [9.69722793e-03, 7.42928911e-01, 8.25046358e-01, 2.31613408e-01,\n",
       "        0.00000000e+00],\n",
       "       ...,\n",
       "       [9.49731426e-06, 7.01200396e-01, 7.15529465e-01, 7.88507970e-02,\n",
       "        0.00000000e+00],\n",
       "       [9.59948855e-06, 5.62205664e-01, 7.61000940e-01, 1.08321132e-01,\n",
       "        0.00000000e+00],\n",
       "       [5.49939083e-05, 8.65418149e-01, 7.96174257e-01, 9.36803535e-02,\n",
       "        0.00000000e+00]])"
      ]
     },
     "execution_count": 3,
     "metadata": {},
     "output_type": "execute_result"
    }
   ],
   "source": [
    "X\n",
    "mm = MinMaxScaler()\n",
    "X = mm.fit_transform(X)\n",
    "X"
   ]
  },
  {
   "cell_type": "code",
   "execution_count": 4,
   "metadata": {},
   "outputs": [
    {
     "data": {
      "text/plain": [
       "array([[0.1242358 ],\n",
       "       [0.03740689],\n",
       "       [0.40791365],\n",
       "       ...,\n",
       "       [0.02822565],\n",
       "       [0.01971066],\n",
       "       [0.3388823 ]])"
      ]
     },
     "execution_count": 4,
     "metadata": {},
     "output_type": "execute_result"
    }
   ],
   "source": [
    "y = mm.fit_transform(y)\n",
    "y"
   ]
  },
  {
   "cell_type": "code",
   "execution_count": 5,
   "metadata": {},
   "outputs": [],
   "source": [
    "from sklearn.model_selection import train_test_split\n",
    "X_train, X_test, y_train, y_test = train_test_split(X, y, test_size=0.25,random_state=1)"
   ]
  },
  {
   "cell_type": "code",
   "execution_count": 6,
   "metadata": {},
   "outputs": [],
   "source": [
    "from keras.optimizers import adam_v2\n",
    "model=Sequential() #初始化模型\n",
    "model.add(Dense(32,input_shape=(5,),activation='tanh'))#添加一个隐含层，注：只是第一个隐含层需指定input_dim\n",
    "model.add(Dense(16,activation='tanh'))\n",
    "model.add(Dense(8,activation='tanh'))\n",
    "model.add(Dense(4,activation='tanh'))\n",
    "model.add(Dense(1)) #添加输出层\n",
    "model.compile(loss='mse',optimizer='adam')  # 编译，指定目标函数与优化方法"
   ]
  },
  {
   "cell_type": "code",
   "execution_count": 7,
   "metadata": {},
   "outputs": [],
   "source": [
    "# 定义查询函数\n",
    "def query_instances(model, X_pool, n_instances=100):\n",
    "    # 使用模型预测未标记的实例的输出值\n",
    "    y_pred = model.predict(X_pool)\n",
    "    \n",
    "    # 计算每个实例的不确定度\n",
    "    uncertainty = np.abs(y_pred - np.mean(y_train))\n",
    "    \n",
    "    # 选择不确定度最高的实例\n",
    "    idx = np.argsort(uncertainty.flatten())[-n_instances:]\n",
    "    return X_pool[idx], idx"
   ]
  },
  {
   "cell_type": "code",
   "execution_count": 8,
   "metadata": {},
   "outputs": [
    {
     "name": "stdout",
     "output_type": "stream",
     "text": [
      "Iteration: 1\n",
      "Iteration: 2\n",
      "Iteration: 3\n",
      "Iteration: 4\n",
      "Iteration: 5\n",
      "Iteration: 6\n",
      "Iteration: 7\n",
      "Iteration: 8\n",
      "Iteration: 9\n",
      "Iteration: 10\n",
      "Iteration: 11\n",
      "Iteration: 12\n",
      "Iteration: 13\n",
      "Iteration: 14\n",
      "Iteration: 15\n",
      "Iteration: 16\n",
      "Iteration: 17\n",
      "Iteration: 18\n",
      "Iteration: 19\n",
      "Iteration: 20\n",
      "Iteration: 21\n",
      "Iteration: 22\n",
      "Iteration: 23\n",
      "Iteration: 24\n",
      "Iteration: 25\n",
      "Epoch 1/100\n",
      "1/1 - 1s - loss: 0.2388 - val_loss: 0.2081 - 518ms/epoch - 518ms/step\n",
      "Epoch 2/100\n",
      "1/1 - 0s - loss: 0.1952 - val_loss: 0.1687 - 31ms/epoch - 31ms/step\n",
      "Epoch 3/100\n",
      "1/1 - 0s - loss: 0.1563 - val_loss: 0.1342 - 28ms/epoch - 28ms/step\n",
      "Epoch 4/100\n",
      "1/1 - 0s - loss: 0.1224 - val_loss: 0.1047 - 24ms/epoch - 24ms/step\n",
      "Epoch 5/100\n",
      "1/1 - 0s - loss: 0.0936 - val_loss: 0.0804 - 24ms/epoch - 24ms/step\n",
      "Epoch 6/100\n",
      "1/1 - 0s - loss: 0.0699 - val_loss: 0.0611 - 27ms/epoch - 27ms/step\n",
      "Epoch 7/100\n",
      "1/1 - 0s - loss: 0.0513 - val_loss: 0.0465 - 24ms/epoch - 24ms/step\n",
      "Epoch 8/100\n",
      "1/1 - 0s - loss: 0.0374 - val_loss: 0.0362 - 28ms/epoch - 28ms/step\n",
      "Epoch 9/100\n",
      "1/1 - 0s - loss: 0.0278 - val_loss: 0.0297 - 25ms/epoch - 25ms/step\n",
      "Epoch 10/100\n",
      "1/1 - 0s - loss: 0.0220 - val_loss: 0.0263 - 31ms/epoch - 31ms/step\n",
      "Epoch 11/100\n",
      "1/1 - 0s - loss: 0.0192 - val_loss: 0.0255 - 33ms/epoch - 33ms/step\n",
      "Epoch 12/100\n",
      "1/1 - 0s - loss: 0.0190 - val_loss: 0.0264 - 28ms/epoch - 28ms/step\n",
      "Epoch 13/100\n",
      "1/1 - 0s - loss: 0.0204 - val_loss: 0.0284 - 28ms/epoch - 28ms/step\n",
      "Epoch 14/100\n",
      "1/1 - 0s - loss: 0.0228 - val_loss: 0.0309 - 28ms/epoch - 28ms/step\n",
      "Epoch 15/100\n",
      "1/1 - 0s - loss: 0.0257 - val_loss: 0.0333 - 30ms/epoch - 30ms/step\n",
      "Epoch 16/100\n",
      "1/1 - 0s - loss: 0.0284 - val_loss: 0.0353 - 33ms/epoch - 33ms/step\n",
      "Epoch 17/100\n",
      "1/1 - 0s - loss: 0.0306 - val_loss: 0.0367 - 32ms/epoch - 32ms/step\n",
      "Epoch 18/100\n",
      "1/1 - 0s - loss: 0.0321 - val_loss: 0.0374 - 32ms/epoch - 32ms/step\n",
      "Epoch 19/100\n",
      "1/1 - 0s - loss: 0.0328 - val_loss: 0.0374 - 27ms/epoch - 27ms/step\n",
      "Epoch 20/100\n",
      "1/1 - 0s - loss: 0.0328 - val_loss: 0.0368 - 24ms/epoch - 24ms/step\n",
      "Epoch 21/100\n",
      "1/1 - 0s - loss: 0.0321 - val_loss: 0.0357 - 30ms/epoch - 30ms/step\n",
      "Epoch 22/100\n",
      "1/1 - 0s - loss: 0.0309 - val_loss: 0.0342 - 26ms/epoch - 26ms/step\n",
      "Epoch 23/100\n",
      "1/1 - 0s - loss: 0.0294 - val_loss: 0.0326 - 30ms/epoch - 30ms/step\n",
      "Epoch 24/100\n",
      "1/1 - 0s - loss: 0.0276 - val_loss: 0.0310 - 29ms/epoch - 29ms/step\n",
      "Epoch 25/100\n",
      "1/1 - 0s - loss: 0.0258 - val_loss: 0.0295 - 29ms/epoch - 29ms/step\n",
      "Epoch 26/100\n",
      "1/1 - 0s - loss: 0.0241 - val_loss: 0.0282 - 31ms/epoch - 31ms/step\n",
      "Epoch 27/100\n",
      "1/1 - 0s - loss: 0.0225 - val_loss: 0.0271 - 26ms/epoch - 26ms/step\n",
      "Epoch 28/100\n",
      "1/1 - 0s - loss: 0.0212 - val_loss: 0.0262 - 30ms/epoch - 30ms/step\n",
      "Epoch 29/100\n",
      "1/1 - 0s - loss: 0.0202 - val_loss: 0.0257 - 29ms/epoch - 29ms/step\n",
      "Epoch 30/100\n",
      "1/1 - 0s - loss: 0.0195 - val_loss: 0.0254 - 29ms/epoch - 29ms/step\n",
      "Epoch 31/100\n",
      "1/1 - 0s - loss: 0.0190 - val_loss: 0.0254 - 34ms/epoch - 34ms/step\n",
      "Epoch 32/100\n",
      "1/1 - 0s - loss: 0.0188 - val_loss: 0.0255 - 26ms/epoch - 26ms/step\n",
      "Epoch 33/100\n",
      "1/1 - 0s - loss: 0.0188 - val_loss: 0.0258 - 31ms/epoch - 31ms/step\n",
      "Epoch 34/100\n",
      "1/1 - 0s - loss: 0.0189 - val_loss: 0.0261 - 29ms/epoch - 29ms/step\n",
      "Epoch 35/100\n",
      "1/1 - 0s - loss: 0.0191 - val_loss: 0.0265 - 31ms/epoch - 31ms/step\n",
      "Epoch 36/100\n",
      "1/1 - 0s - loss: 0.0194 - val_loss: 0.0268 - 25ms/epoch - 25ms/step\n",
      "Epoch 37/100\n",
      "1/1 - 0s - loss: 0.0196 - val_loss: 0.0271 - 31ms/epoch - 31ms/step\n",
      "Epoch 38/100\n",
      "1/1 - 0s - loss: 0.0199 - val_loss: 0.0274 - 27ms/epoch - 27ms/step\n",
      "Epoch 39/100\n",
      "1/1 - 0s - loss: 0.0201 - val_loss: 0.0275 - 32ms/epoch - 32ms/step\n",
      "Epoch 40/100\n",
      "1/1 - 0s - loss: 0.0202 - val_loss: 0.0275 - 28ms/epoch - 28ms/step\n",
      "Epoch 41/100\n",
      "1/1 - 0s - loss: 0.0202 - val_loss: 0.0275 - 31ms/epoch - 31ms/step\n",
      "Epoch 42/100\n",
      "1/1 - 0s - loss: 0.0201 - val_loss: 0.0273 - 34ms/epoch - 34ms/step\n",
      "Epoch 43/100\n",
      "1/1 - 0s - loss: 0.0200 - val_loss: 0.0271 - 27ms/epoch - 27ms/step\n",
      "Epoch 44/100\n",
      "1/1 - 0s - loss: 0.0198 - val_loss: 0.0269 - 27ms/epoch - 27ms/step\n",
      "Epoch 45/100\n",
      "1/1 - 0s - loss: 0.0197 - val_loss: 0.0266 - 30ms/epoch - 30ms/step\n",
      "Epoch 46/100\n",
      "1/1 - 0s - loss: 0.0194 - val_loss: 0.0264 - 29ms/epoch - 29ms/step\n",
      "Epoch 47/100\n",
      "1/1 - 0s - loss: 0.0192 - val_loss: 0.0261 - 28ms/epoch - 28ms/step\n",
      "Epoch 48/100\n",
      "1/1 - 0s - loss: 0.0190 - val_loss: 0.0259 - 28ms/epoch - 28ms/step\n",
      "Epoch 49/100\n",
      "1/1 - 0s - loss: 0.0189 - val_loss: 0.0257 - 27ms/epoch - 27ms/step\n",
      "Epoch 50/100\n",
      "1/1 - 0s - loss: 0.0187 - val_loss: 0.0255 - 27ms/epoch - 27ms/step\n",
      "Epoch 51/100\n",
      "1/1 - 0s - loss: 0.0186 - val_loss: 0.0254 - 25ms/epoch - 25ms/step\n",
      "Epoch 52/100\n",
      "1/1 - 0s - loss: 0.0186 - val_loss: 0.0253 - 23ms/epoch - 23ms/step\n",
      "Epoch 53/100\n",
      "1/1 - 0s - loss: 0.0185 - val_loss: 0.0253 - 29ms/epoch - 29ms/step\n",
      "Epoch 54/100\n",
      "1/1 - 0s - loss: 0.0185 - val_loss: 0.0252 - 28ms/epoch - 28ms/step\n",
      "Epoch 55/100\n",
      "1/1 - 0s - loss: 0.0185 - val_loss: 0.0252 - 30ms/epoch - 30ms/step\n",
      "Epoch 56/100\n",
      "1/1 - 0s - loss: 0.0186 - val_loss: 0.0252 - 26ms/epoch - 26ms/step\n",
      "Epoch 57/100\n",
      "1/1 - 0s - loss: 0.0186 - val_loss: 0.0252 - 29ms/epoch - 29ms/step\n",
      "Epoch 58/100\n",
      "1/1 - 0s - loss: 0.0186 - val_loss: 0.0252 - 23ms/epoch - 23ms/step\n",
      "Epoch 59/100\n",
      "1/1 - 0s - loss: 0.0187 - val_loss: 0.0252 - 24ms/epoch - 24ms/step\n",
      "Epoch 60/100\n",
      "1/1 - 0s - loss: 0.0187 - val_loss: 0.0252 - 27ms/epoch - 27ms/step\n",
      "Epoch 61/100\n",
      "1/1 - 0s - loss: 0.0187 - val_loss: 0.0252 - 27ms/epoch - 27ms/step\n",
      "Epoch 62/100\n",
      "1/1 - 0s - loss: 0.0186 - val_loss: 0.0252 - 28ms/epoch - 28ms/step\n",
      "Epoch 63/100\n",
      "1/1 - 0s - loss: 0.0186 - val_loss: 0.0252 - 31ms/epoch - 31ms/step\n",
      "Epoch 64/100\n",
      "1/1 - 0s - loss: 0.0186 - val_loss: 0.0252 - 32ms/epoch - 32ms/step\n",
      "Epoch 65/100\n",
      "1/1 - 0s - loss: 0.0185 - val_loss: 0.0252 - 26ms/epoch - 26ms/step\n",
      "Epoch 66/100\n",
      "1/1 - 0s - loss: 0.0185 - val_loss: 0.0252 - 25ms/epoch - 25ms/step\n",
      "Epoch 67/100\n",
      "1/1 - 0s - loss: 0.0185 - val_loss: 0.0252 - 25ms/epoch - 25ms/step\n",
      "Epoch 68/100\n",
      "1/1 - 0s - loss: 0.0184 - val_loss: 0.0252 - 27ms/epoch - 27ms/step\n",
      "Epoch 69/100\n",
      "1/1 - 0s - loss: 0.0184 - val_loss: 0.0252 - 25ms/epoch - 25ms/step\n",
      "Epoch 70/100\n",
      "1/1 - 0s - loss: 0.0184 - val_loss: 0.0252 - 29ms/epoch - 29ms/step\n",
      "Epoch 71/100\n",
      "1/1 - 0s - loss: 0.0184 - val_loss: 0.0252 - 28ms/epoch - 28ms/step\n",
      "Epoch 72/100\n",
      "1/1 - 0s - loss: 0.0184 - val_loss: 0.0252 - 28ms/epoch - 28ms/step\n",
      "Epoch 73/100\n",
      "1/1 - 0s - loss: 0.0183 - val_loss: 0.0252 - 26ms/epoch - 26ms/step\n",
      "Epoch 74/100\n",
      "1/1 - 0s - loss: 0.0183 - val_loss: 0.0253 - 28ms/epoch - 28ms/step\n",
      "Epoch 75/100\n",
      "1/1 - 0s - loss: 0.0183 - val_loss: 0.0253 - 26ms/epoch - 26ms/step\n",
      "Epoch 76/100\n",
      "1/1 - 0s - loss: 0.0183 - val_loss: 0.0253 - 24ms/epoch - 24ms/step\n",
      "Epoch 77/100\n",
      "1/1 - 0s - loss: 0.0183 - val_loss: 0.0253 - 24ms/epoch - 24ms/step\n",
      "Epoch 78/100\n",
      "1/1 - 0s - loss: 0.0183 - val_loss: 0.0253 - 27ms/epoch - 27ms/step\n",
      "Epoch 79/100\n",
      "1/1 - 0s - loss: 0.0183 - val_loss: 0.0253 - 23ms/epoch - 23ms/step\n",
      "Epoch 80/100\n",
      "1/1 - 0s - loss: 0.0183 - val_loss: 0.0253 - 26ms/epoch - 26ms/step\n",
      "Epoch 81/100\n",
      "1/1 - 0s - loss: 0.0183 - val_loss: 0.0253 - 29ms/epoch - 29ms/step\n",
      "Epoch 82/100\n",
      "1/1 - 0s - loss: 0.0183 - val_loss: 0.0252 - 26ms/epoch - 26ms/step\n",
      "Epoch 83/100\n",
      "1/1 - 0s - loss: 0.0183 - val_loss: 0.0252 - 26ms/epoch - 26ms/step\n",
      "Epoch 84/100\n",
      "1/1 - 0s - loss: 0.0183 - val_loss: 0.0252 - 31ms/epoch - 31ms/step\n",
      "Epoch 85/100\n",
      "1/1 - 0s - loss: 0.0183 - val_loss: 0.0252 - 24ms/epoch - 24ms/step\n",
      "Epoch 86/100\n",
      "1/1 - 0s - loss: 0.0182 - val_loss: 0.0252 - 26ms/epoch - 26ms/step\n",
      "Epoch 87/100\n",
      "1/1 - 0s - loss: 0.0182 - val_loss: 0.0252 - 31ms/epoch - 31ms/step\n",
      "Epoch 88/100\n",
      "1/1 - 0s - loss: 0.0182 - val_loss: 0.0251 - 29ms/epoch - 29ms/step\n",
      "Epoch 89/100\n",
      "1/1 - 0s - loss: 0.0182 - val_loss: 0.0251 - 26ms/epoch - 26ms/step\n",
      "Epoch 90/100\n",
      "1/1 - 0s - loss: 0.0182 - val_loss: 0.0251 - 27ms/epoch - 27ms/step\n",
      "Epoch 91/100\n",
      "1/1 - 0s - loss: 0.0182 - val_loss: 0.0251 - 28ms/epoch - 28ms/step\n",
      "Epoch 92/100\n",
      "1/1 - 0s - loss: 0.0182 - val_loss: 0.0251 - 30ms/epoch - 30ms/step\n",
      "Epoch 93/100\n",
      "1/1 - 0s - loss: 0.0182 - val_loss: 0.0251 - 23ms/epoch - 23ms/step\n",
      "Epoch 94/100\n",
      "1/1 - 0s - loss: 0.0182 - val_loss: 0.0251 - 30ms/epoch - 30ms/step\n",
      "Epoch 95/100\n",
      "1/1 - 0s - loss: 0.0182 - val_loss: 0.0251 - 30ms/epoch - 30ms/step\n",
      "Epoch 96/100\n",
      "1/1 - 0s - loss: 0.0182 - val_loss: 0.0251 - 29ms/epoch - 29ms/step\n",
      "Epoch 97/100\n",
      "1/1 - 0s - loss: 0.0182 - val_loss: 0.0251 - 28ms/epoch - 28ms/step\n",
      "Epoch 98/100\n",
      "1/1 - 0s - loss: 0.0182 - val_loss: 0.0251 - 26ms/epoch - 26ms/step\n",
      "Epoch 99/100\n",
      "1/1 - 0s - loss: 0.0182 - val_loss: 0.0251 - 27ms/epoch - 27ms/step\n",
      "Epoch 100/100\n",
      "1/1 - 0s - loss: 0.0181 - val_loss: 0.0251 - 29ms/epoch - 29ms/step\n"
     ]
    }
   ],
   "source": [
    "X_pool=X_train.copy() \n",
    "y_pool=y_train.copy()# 初始化已标记的实例列表\n",
    "X_labeled=[] \n",
    "y_labeled=[]\n",
    "# 选择初始的标记实例\n",
    "n_initial = 100\n",
    "idx=np.random.choice(range(len(X_pool)), n_initial, replace=False)\n",
    "X_labeled.extend(X_pool[idx])\n",
    "y_labeled.extend(y_pool[idx])\n",
    "X_pool = np.delete(X_pool, idx, axis=0)\n",
    "y_pool = np.delete(y_pool, idx, axis=0)\n",
    "# 开始主动学习的迭代过程\n",
    "n_iterations = 25\n",
    "n_per_iteration = 50\n",
    "for i in range(n_iterations):\n",
    "    print(\"Iteration:\", i+1)\n",
    "# 训练模型\n",
    "history=model.fit(np.array(X_labeled), np.array(y_labeled),validation_data=(X_test,y_test), epochs=100, batch_size=100,verbose=2)\n",
    "\n",
    "# 查询新的实例\n",
    "X_new, idx = query_instances(model, X_pool, n_per_iteration)\n",
    "\n",
    "# 将新的实例加入已标记的列表\n",
    "X_labeled.extend(X_new)\n",
    "y_labeled.extend(y_pool[idx])\n",
    "\n",
    "# 从池中删除已选择的实例\n",
    "X_pool = np.delete(X_pool, idx, axis=0)\n",
    "y_pool = np.delete(y_pool, idx, axis=0)"
   ]
  },
  {
   "cell_type": "code",
   "execution_count": 9,
   "metadata": {},
   "outputs": [],
   "source": [
    "loss=history.history['loss']\n",
    "val_loss=history.history['val_loss']"
   ]
  },
  {
   "cell_type": "code",
   "execution_count": 10,
   "metadata": {},
   "outputs": [],
   "source": [
    "np.savetxt('act_loss.txt',loss,fmt='%f')\n",
    "np.savetxt('act_val_loss.txt',val_loss,fmt='%f')"
   ]
  },
  {
   "cell_type": "code",
   "execution_count": 11,
   "metadata": {},
   "outputs": [
    {
     "data": {
      "image/png": "[encoded data removed]",
      "text/plain": [
       "<Figure size 432x288 with 1 Axes>"
      ]
     },
     "metadata": {
      "needs_background": "light"
     },
     "output_type": "display_data"
    }
   ],
   "source": [
    "pyplot.plot(history.history['loss'], label='train loss')\n",
    "pyplot.plot(history.history['val_loss'], label='test loss')\n",
    "pyplot.legend()\n",
    "pyplot.xlabel('Epochs', fontsize = 12)\n",
    "pyplot.ylabel('Loss', fontsize = 12)\n",
    "pyplot.savefig(\"./loss.png\")"
   ]
  },
  {
   "cell_type": "code",
   "execution_count": 12,
   "metadata": {},
   "outputs": [],
   "source": [
    "prediction_y = model.predict(X_test)"
   ]
  },
  {
   "cell_type": "code",
   "execution_count": 13,
   "metadata": {},
   "outputs": [],
   "source": [
    "Y_pre=mm.inverse_transform(prediction_y)"
   ]
  },
  {
   "cell_type": "code",
   "execution_count": 14,
   "metadata": {},
   "outputs": [],
   "source": [
    "Y_real=mm.inverse_transform(y_test)"
   ]
  },
  {
   "cell_type": "code",
   "execution_count": 15,
   "metadata": {},
   "outputs": [],
   "source": [
    "cha=Y_pre-Y_real"
   ]
  },
  {
   "cell_type": "code",
   "execution_count": 16,
   "metadata": {},
   "outputs": [
    {
     "name": "stdout",
     "output_type": "stream",
     "text": [
      "Test MAE: 1.042\n",
      "Test MSE: 2.046\n"
     ]
    }
   ],
   "source": [
    "from sklearn.metrics import mean_absolute_error, mean_squared_error, r2_score\n",
    "mae = mean_absolute_error(Y_real, Y_pre)\n",
    "mse = mean_squared_error(Y_real, Y_pre)\n",
    "print('Test MAE: %.3f' % mae)\n",
    "print('Test MSE: %.3f' % mse)"
   ]
  },
  {
   "cell_type": "code",
   "execution_count": 17,
   "metadata": {},
   "outputs": [
    {
     "name": "stdout",
     "output_type": "stream",
     "text": [
      "Test RMSE: 1.430\n"
     ]
    }
   ],
   "source": [
    "from math import sqrt\n",
    "rmse = sqrt(mean_squared_error(Y_real, Y_pre))\n",
    "print('Test RMSE: %.3f' % rmse)"
   ]
  },
  {
   "cell_type": "code",
   "execution_count": 18,
   "metadata": {},
   "outputs": [],
   "source": [
    "def MAPE(Y_real,Y_pre):#计算mape\n",
    "    return np.mean(np.abs((Y_real - Y_pre) / Y_real)) * 100"
   ]
  },
  {
   "cell_type": "code",
   "execution_count": 19,
   "metadata": {},
   "outputs": [],
   "source": [
    "mape=MAPE(Y_real, Y_pre)"
   ]
  },
  {
   "cell_type": "code",
   "execution_count": 20,
   "metadata": {},
   "outputs": [
    {
     "data": {
      "text/plain": [
       "364.3489990645345"
      ]
     },
     "execution_count": 20,
     "metadata": {},
     "output_type": "execute_result"
    }
   ],
   "source": [
    "mape"
   ]
  }
 ],
 "metadata": {
  "kernelspec": {
   "display_name": "Python 3",
   "language": "python",
   "name": "python3"
  },
  "language_info": {
   "codemirror_mode": {
    "name": "ipython",
    "version": 3
   },
   "file_extension": ".py",
   "mimetype": "text/x-python",
   "name": "python",
   "nbconvert_exporter": "python",
   "pygments_lexer": "ipython3",
   "version": "3.8.5"
  }
 },
 "nbformat": 4,
 "nbformat_minor": 4
}
